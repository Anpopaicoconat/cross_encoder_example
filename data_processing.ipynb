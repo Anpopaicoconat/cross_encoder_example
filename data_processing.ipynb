{
 "cells": [
  {
   "cell_type": "markdown",
   "metadata": {},
   "source": [
    "# Загрузка и обработка данных huggingface datasets\n",
    "## Полезные ссылки:\n",
    " - классы и функции бибилиотеки datasets и https://huggingface.co/docs/datasets/v2.13.1/en/package_reference/main_classes\n",
    " - база датасетов https://huggingface.co/datasets\n",
    " - как устроены датасеты и что такое Memory-mapping https://huggingface.co/docs/datasets/about_arrow\n",
    " - разница iterable и map датасетов https://huggingface.co/docs/datasets/about_mapstyle_vs_iterable\n",
    " - быстрый гайд по обработке данных https://huggingface.co/docs/datasets/process\n",
    " - обработка батчами https://huggingface.co/docs/datasets/about_map_batch"
   ]
  },
  {
   "cell_type": "code",
   "execution_count": 1,
   "metadata": {},
   "outputs": [
    {
     "name": "stderr",
     "output_type": "stream",
     "text": [
      "/home/posokhov@ad.speechpro.com/anaconda3/envs/pl_template2/lib/python3.10/site-packages/tqdm/auto.py:22: TqdmWarning: IProgress not found. Please update jupyter and ipywidgets. See https://ipywidgets.readthedocs.io/en/stable/user_install.html\n",
      "  from .autonotebook import tqdm as notebook_tqdm\n"
     ]
    }
   ],
   "source": [
    "import os\n",
    "\n",
    "import numpy as np\n",
    "import pandas as pd\n",
    "import torch\n",
    "import pytorch_lightning as pl\n",
    "import datasets\n",
    "import transformers\n",
    "\n",
    "# proxy\n",
    "os.environ[\"http_proxy\"] = \"http://proxy.ad.speechpro.com:3128\"\n",
    "os.environ[\"https_proxy\"] = \"http://proxy.ad.speechpro.com:3128\"\n",
    "os.environ[\"ftp_proxy\"] = \"http://proxy.ad.speechpro.com:3128\""
   ]
  },
  {
   "cell_type": "code",
   "execution_count": 2,
   "metadata": {},
   "outputs": [
    {
     "name": "stderr",
     "output_type": "stream",
     "text": [
      "Using custom data configuration merionum--ru_paraphraser-e39dafb2b050eb83\n",
      "Found cached dataset json (/mnt/cs/nlu/home/posokhov/merionum___json/merionum--ru_paraphraser-e39dafb2b050eb83/0.0.0/e6070c77f18f01a5ad4551a8b7edfba20b8438b7cad4d94e6ad9378022ce4aab)\n",
      "100%|██████████| 2/2 [00:00<00:00, 129.71it/s]"
     ]
    },
    {
     "name": "stdout",
     "output_type": "stream",
     "text": [
      "DatasetDict({\n",
      "    train: Dataset({\n",
      "        features: ['id', 'id_1', 'id_2', 'text_1', 'text_2', 'class'],\n",
      "        num_rows: 7227\n",
      "    })\n",
      "    test: Dataset({\n",
      "        features: ['id', 'id_1', 'id_2', 'text_1', 'text_2', 'class'],\n",
      "        num_rows: 1924\n",
      "    })\n",
      "})\n"
     ]
    },
    {
     "name": "stderr",
     "output_type": "stream",
     "text": [
      "\n"
     ]
    },
    {
     "data": {
      "text/html": [
       "<div>\n",
       "<style scoped>\n",
       "    .dataframe tbody tr th:only-of-type {\n",
       "        vertical-align: middle;\n",
       "    }\n",
       "\n",
       "    .dataframe tbody tr th {\n",
       "        vertical-align: top;\n",
       "    }\n",
       "\n",
       "    .dataframe thead th {\n",
       "        text-align: right;\n",
       "    }\n",
       "</style>\n",
       "<table border=\"1\" class=\"dataframe\">\n",
       "  <thead>\n",
       "    <tr style=\"text-align: right;\">\n",
       "      <th></th>\n",
       "      <th>id</th>\n",
       "      <th>id_1</th>\n",
       "      <th>id_2</th>\n",
       "      <th>text_1</th>\n",
       "      <th>text_2</th>\n",
       "      <th>class</th>\n",
       "    </tr>\n",
       "  </thead>\n",
       "  <tbody>\n",
       "    <tr>\n",
       "      <th>0</th>\n",
       "      <td>1</td>\n",
       "      <td>201</td>\n",
       "      <td>8159</td>\n",
       "      <td>Полицейским разрешат стрелять на поражение по ...</td>\n",
       "      <td>Полиции могут разрешить стрелять по хулиганам ...</td>\n",
       "      <td>0</td>\n",
       "    </tr>\n",
       "    <tr>\n",
       "      <th>1</th>\n",
       "      <td>2</td>\n",
       "      <td>202</td>\n",
       "      <td>8158</td>\n",
       "      <td>Право полицейских на проникновение в жилище ре...</td>\n",
       "      <td>Правила внесудебного проникновения полицейских...</td>\n",
       "      <td>0</td>\n",
       "    </tr>\n",
       "    <tr>\n",
       "      <th>2</th>\n",
       "      <td>3</td>\n",
       "      <td>273</td>\n",
       "      <td>8167</td>\n",
       "      <td>Президент Египта ввел чрезвычайное положение в...</td>\n",
       "      <td>Власти Египта угрожают ввести в стране чрезвыч...</td>\n",
       "      <td>0</td>\n",
       "    </tr>\n",
       "    <tr>\n",
       "      <th>3</th>\n",
       "      <td>4</td>\n",
       "      <td>220</td>\n",
       "      <td>8160</td>\n",
       "      <td>Вернувшихся из Сирии россиян волнует вопрос тр...</td>\n",
       "      <td>Самолеты МЧС вывезут россиян из разрушенной Си...</td>\n",
       "      <td>-1</td>\n",
       "    </tr>\n",
       "    <tr>\n",
       "      <th>4</th>\n",
       "      <td>5</td>\n",
       "      <td>223</td>\n",
       "      <td>8160</td>\n",
       "      <td>В Москву из Сирии вернулись 2 самолета МЧС с р...</td>\n",
       "      <td>Самолеты МЧС вывезут россиян из разрушенной Си...</td>\n",
       "      <td>0</td>\n",
       "    </tr>\n",
       "    <tr>\n",
       "      <th>...</th>\n",
       "      <td>...</td>\n",
       "      <td>...</td>\n",
       "      <td>...</td>\n",
       "      <td>...</td>\n",
       "      <td>...</td>\n",
       "      <td>...</td>\n",
       "    </tr>\n",
       "    <tr>\n",
       "      <th>7222</th>\n",
       "      <td>25514</td>\n",
       "      <td>34622</td>\n",
       "      <td>34633</td>\n",
       "      <td>Путин освободил от должности ряд генералов</td>\n",
       "      <td>Путин снял с должностей более 20 руководителей...</td>\n",
       "      <td>0</td>\n",
       "    </tr>\n",
       "    <tr>\n",
       "      <th>7223</th>\n",
       "      <td>25524</td>\n",
       "      <td>34566</td>\n",
       "      <td>34654</td>\n",
       "      <td>Облака над Москвой в День Победы разгонят девя...</td>\n",
       "      <td>Путеводитель по Дню Победы: как провести 9 мая...</td>\n",
       "      <td>-1</td>\n",
       "    </tr>\n",
       "    <tr>\n",
       "      <th>7224</th>\n",
       "      <td>25548</td>\n",
       "      <td>34519</td>\n",
       "      <td>34681</td>\n",
       "      <td>Любляна отпразднует День Победы вместе с Москвой</td>\n",
       "      <td>В Москве ограничат движение в связи с Днем Победы</td>\n",
       "      <td>-1</td>\n",
       "    </tr>\n",
       "    <tr>\n",
       "      <th>7225</th>\n",
       "      <td>25549</td>\n",
       "      <td>34565</td>\n",
       "      <td>34681</td>\n",
       "      <td>Девять самолетов ВВС разгонят облака над Москв...</td>\n",
       "      <td>В Москве ограничат движение в связи с Днем Победы</td>\n",
       "      <td>-1</td>\n",
       "    </tr>\n",
       "    <tr>\n",
       "      <th>7226</th>\n",
       "      <td>25577</td>\n",
       "      <td>34584</td>\n",
       "      <td>34722</td>\n",
       "      <td>9 мая метрополитен Петербурга будет работать к...</td>\n",
       "      <td>Мартынов: комендантский час в Донецке 9 мая бу...</td>\n",
       "      <td>-1</td>\n",
       "    </tr>\n",
       "  </tbody>\n",
       "</table>\n",
       "<p>7227 rows × 6 columns</p>\n",
       "</div>"
      ],
      "text/plain": [
       "         id   id_1   id_2                                             text_1  \\\n",
       "0         1    201   8159  Полицейским разрешат стрелять на поражение по ...   \n",
       "1         2    202   8158  Право полицейских на проникновение в жилище ре...   \n",
       "2         3    273   8167  Президент Египта ввел чрезвычайное положение в...   \n",
       "3         4    220   8160  Вернувшихся из Сирии россиян волнует вопрос тр...   \n",
       "4         5    223   8160  В Москву из Сирии вернулись 2 самолета МЧС с р...   \n",
       "...     ...    ...    ...                                                ...   \n",
       "7222  25514  34622  34633         Путин освободил от должности ряд генералов   \n",
       "7223  25524  34566  34654  Облака над Москвой в День Победы разгонят девя...   \n",
       "7224  25548  34519  34681   Любляна отпразднует День Победы вместе с Москвой   \n",
       "7225  25549  34565  34681  Девять самолетов ВВС разгонят облака над Москв...   \n",
       "7226  25577  34584  34722  9 мая метрополитен Петербурга будет работать к...   \n",
       "\n",
       "                                                 text_2 class  \n",
       "0     Полиции могут разрешить стрелять по хулиганам ...     0  \n",
       "1     Правила внесудебного проникновения полицейских...     0  \n",
       "2     Власти Египта угрожают ввести в стране чрезвыч...     0  \n",
       "3     Самолеты МЧС вывезут россиян из разрушенной Си...    -1  \n",
       "4     Самолеты МЧС вывезут россиян из разрушенной Си...     0  \n",
       "...                                                 ...   ...  \n",
       "7222  Путин снял с должностей более 20 руководителей...     0  \n",
       "7223  Путеводитель по Дню Победы: как провести 9 мая...    -1  \n",
       "7224  В Москве ограничат движение в связи с Днем Победы    -1  \n",
       "7225  В Москве ограничат движение в связи с Днем Победы    -1  \n",
       "7226  Мартынов: комендантский час в Донецке 9 мая бу...    -1  \n",
       "\n",
       "[7227 rows x 6 columns]"
      ]
     },
     "execution_count": 2,
     "metadata": {},
     "output_type": "execute_result"
    }
   ],
   "source": [
    "ds = datasets.load_dataset(\n",
    "    \"merionum/ru_paraphraser\", # dataset name\n",
    "    cache_dir=\"/mnt/cs/nlu/home/posokhov/\" # path to savedir\n",
    "    )\n",
    "print(ds)\n",
    "ds['train'].to_pandas()"
   ]
  },
  {
   "cell_type": "code",
   "execution_count": 3,
   "metadata": {},
   "outputs": [
    {
     "data": {
      "text/plain": [
       "DatasetDict({\n",
       "    train: Dataset({\n",
       "        features: ['text_1', 'text_2', 'label'],\n",
       "        num_rows: 7227\n",
       "    })\n",
       "    test: Dataset({\n",
       "        features: ['text_1', 'text_2', 'label'],\n",
       "        num_rows: 1924\n",
       "    })\n",
       "})"
      ]
     },
     "execution_count": 3,
     "metadata": {},
     "output_type": "execute_result"
    }
   ],
   "source": [
    "ds = ds.remove_columns(['id', 'id_1', 'id_2'])\n",
    "ds = ds.rename_columns({\"class\":\"label\"})\n",
    "ds"
   ]
  },
  {
   "cell_type": "code",
   "execution_count": 4,
   "metadata": {},
   "outputs": [
    {
     "name": "stderr",
     "output_type": "stream",
     "text": [
      "Loading cached processed dataset at /mnt/cs/nlu/home/posokhov/merionum___json/merionum--ru_paraphraser-e39dafb2b050eb83/0.0.0/e6070c77f18f01a5ad4551a8b7edfba20b8438b7cad4d94e6ad9378022ce4aab/cache-6e3ee3f0501577fa.arrow\n",
      "Loading cached processed dataset at /mnt/cs/nlu/home/posokhov/merionum___json/merionum--ru_paraphraser-e39dafb2b050eb83/0.0.0/e6070c77f18f01a5ad4551a8b7edfba20b8438b7cad4d94e6ad9378022ce4aab/cache-70fd87221a93b84e.arrow\n",
      "Loading cached processed dataset at /mnt/cs/nlu/home/posokhov/merionum___json/merionum--ru_paraphraser-e39dafb2b050eb83/0.0.0/e6070c77f18f01a5ad4551a8b7edfba20b8438b7cad4d94e6ad9378022ce4aab/cache-87e228d025f952e8.arrow\n",
      "Loading cached processed dataset at /mnt/cs/nlu/home/posokhov/merionum___json/merionum--ru_paraphraser-e39dafb2b050eb83/0.0.0/e6070c77f18f01a5ad4551a8b7edfba20b8438b7cad4d94e6ad9378022ce4aab/cache-7a517edbfbd43a8d.arrow\n",
      "Loading cached processed dataset at /mnt/cs/nlu/home/posokhov/merionum___json/merionum--ru_paraphraser-e39dafb2b050eb83/0.0.0/e6070c77f18f01a5ad4551a8b7edfba20b8438b7cad4d94e6ad9378022ce4aab/cache-de7f4fbd0c678833.arrow\n",
      "Loading cached processed dataset at /mnt/cs/nlu/home/posokhov/merionum___json/merionum--ru_paraphraser-e39dafb2b050eb83/0.0.0/e6070c77f18f01a5ad4551a8b7edfba20b8438b7cad4d94e6ad9378022ce4aab/cache-6c600991d4946ad3.arrow\n",
      "Loading cached processed dataset at /mnt/cs/nlu/home/posokhov/merionum___json/merionum--ru_paraphraser-e39dafb2b050eb83/0.0.0/e6070c77f18f01a5ad4551a8b7edfba20b8438b7cad4d94e6ad9378022ce4aab/cache-c1fb2ebf4bc6f6ff.arrow\n",
      "Loading cached processed dataset at /mnt/cs/nlu/home/posokhov/merionum___json/merionum--ru_paraphraser-e39dafb2b050eb83/0.0.0/e6070c77f18f01a5ad4551a8b7edfba20b8438b7cad4d94e6ad9378022ce4aab/cache-ecd993e144e990e1.arrow\n"
     ]
    },
    {
     "data": {
      "text/plain": [
       "DatasetDict({\n",
       "    train: Dataset({\n",
       "        features: ['text_1', 'text_2', 'label'],\n",
       "        num_rows: 7227\n",
       "    })\n",
       "    test: Dataset({\n",
       "        features: ['text_1', 'text_2', 'label'],\n",
       "        num_rows: 1924\n",
       "    })\n",
       "})"
      ]
     },
     "execution_count": 4,
     "metadata": {},
     "output_type": "execute_result"
    }
   ],
   "source": [
    "def re_labeler(label, label_dict):\n",
    "    new_label = label_dict[label]\n",
    "    return {\"label\": new_label}\n",
    "\n",
    "\n",
    "label_dict = {\"-1\": 0, \"0\": 1, \"1\": 1}\n",
    "\n",
    "ds = ds.map(\n",
    "    re_labeler,\n",
    "    input_columns=[\"label\"],\n",
    "    fn_kwargs={\"label_dict\": label_dict},\n",
    "    num_proc=4,\n",
    ")\n",
    "ds"
   ]
  },
  {
   "cell_type": "code",
   "execution_count": 5,
   "metadata": {},
   "outputs": [
    {
     "name": "stderr",
     "output_type": "stream",
     "text": [
      "Loading cached processed dataset at /mnt/cs/nlu/home/posokhov/merionum___json/merionum--ru_paraphraser-e39dafb2b050eb83/0.0.0/e6070c77f18f01a5ad4551a8b7edfba20b8438b7cad4d94e6ad9378022ce4aab/cache-2dbd75ad37431229.arrow\n"
     ]
    },
    {
     "data": {
      "text/plain": [
       "Dataset({\n",
       "    features: ['text_1', 'text_2', 'label'],\n",
       "    num_rows: 4645\n",
       "})"
      ]
     },
     "execution_count": 5,
     "metadata": {},
     "output_type": "execute_result"
    }
   ],
   "source": [
    "ds_pos_pairs = ds[\"train\"].filter(lambda label: label==1, input_columns=[\"label\"])\n",
    "ds_pos_pairs"
   ]
  },
  {
   "cell_type": "code",
   "execution_count": 6,
   "metadata": {},
   "outputs": [
    {
     "name": "stderr",
     "output_type": "stream",
     "text": [
      "Loading cached processed dataset at /mnt/cs/nlu/home/posokhov/merionum___json/merionum--ru_paraphraser-e39dafb2b050eb83/0.0.0/e6070c77f18f01a5ad4551a8b7edfba20b8438b7cad4d94e6ad9378022ce4aab/cache-164637f1ceebb0fd.arrow\n"
     ]
    },
    {
     "data": {
      "text/plain": [
       "Dataset({\n",
       "    features: ['text_1', 'text_2', 'label'],\n",
       "    num_rows: 929\n",
       "})"
      ]
     },
     "execution_count": 6,
     "metadata": {},
     "output_type": "execute_result"
    }
   ],
   "source": [
    "def map_neg_sampler(batch):\n",
    "    text_1 = batch[\"text_1\"][0]\n",
    "    text_2 = batch[\"text_2\"][1]\n",
    "    return {\n",
    "        \"text_1\":[text_1],\n",
    "        \"text_2\":[text_2],\n",
    "        \"label\": [0]\n",
    "    }\n",
    "ds_neg_pairs = ds_pos_pairs.map(map_neg_sampler, batched=True, batch_size=5)\n",
    "ds_neg_pairs"
   ]
  },
  {
   "cell_type": "code",
   "execution_count": 7,
   "metadata": {},
   "outputs": [
    {
     "name": "stderr",
     "output_type": "stream",
     "text": [
      "Loading cached shuffled indices for dataset at /mnt/cs/nlu/home/posokhov/merionum___json/merionum--ru_paraphraser-e39dafb2b050eb83/0.0.0/e6070c77f18f01a5ad4551a8b7edfba20b8438b7cad4d94e6ad9378022ce4aab/cache-3c6e3ee315f7689a.arrow\n",
      "Loading cached shuffled indices for dataset at /mnt/cs/nlu/home/posokhov/merionum___json/merionum--ru_paraphraser-e39dafb2b050eb83/0.0.0/e6070c77f18f01a5ad4551a8b7edfba20b8438b7cad4d94e6ad9378022ce4aab/cache-24c5bbd65b86a7db.arrow\n"
     ]
    },
    {
     "data": {
      "text/plain": [
       "DatasetDict({\n",
       "    train: Dataset({\n",
       "        features: ['text_1', 'text_2', 'label'],\n",
       "        num_rows: 8156\n",
       "    })\n",
       "    test: Dataset({\n",
       "        features: ['text_1', 'text_2', 'label'],\n",
       "        num_rows: 1924\n",
       "    })\n",
       "})"
      ]
     },
     "execution_count": 7,
     "metadata": {},
     "output_type": "execute_result"
    }
   ],
   "source": [
    "# merge train split\n",
    "new_train = datasets.concatenate_datasets([ds['train'], ds_neg_pairs])\n",
    "ds['train'] = new_train\n",
    "ds = ds.shuffle(seed=42)\n",
    "ds"
   ]
  },
  {
   "cell_type": "code",
   "execution_count": 8,
   "metadata": {},
   "outputs": [
    {
     "data": {
      "text/plain": [
       "DatasetDict({\n",
       "    train: Dataset({\n",
       "        features: ['text_1', 'text_2', 'label'],\n",
       "        num_rows: 8156\n",
       "    })\n",
       "    test: Dataset({\n",
       "        features: ['text_1', 'text_2', 'label'],\n",
       "        num_rows: 1924\n",
       "    })\n",
       "    val: Dataset({\n",
       "        features: ['text_1', 'text_2', 'label'],\n",
       "        num_rows: 1000\n",
       "    })\n",
       "    ds_hand_test: Dataset({\n",
       "        features: ['text_1', 'text_2'],\n",
       "        num_rows: 1\n",
       "    })\n",
       "})"
      ]
     },
     "execution_count": 8,
     "metadata": {},
     "output_type": "execute_result"
    }
   ],
   "source": [
    "ds['val'] = ds['train'].train_test_split(1000, seed=42)['test']\n",
    "\n",
    "ds_hand_test = {\"text_1\":[\"сегодня ожидается ясная, теплая погода\"], \"text_2\":[\"сегодня будет ясно и тепло\"]}\n",
    "ds_hand_test = datasets.Dataset.from_dict(ds_hand_test)\n",
    "ds['ds_hand_test'] =ds_hand_test\n",
    "\n",
    "ds"
   ]
  },
  {
   "cell_type": "code",
   "execution_count": 9,
   "metadata": {},
   "outputs": [
    {
     "name": "stderr",
     "output_type": "stream",
     "text": [
      "Loading cached processed dataset at /mnt/cs/nlu/home/posokhov/merionum___json/merionum--ru_paraphraser-e39dafb2b050eb83/0.0.0/e6070c77f18f01a5ad4551a8b7edfba20b8438b7cad4d94e6ad9378022ce4aab/cache-0e0744a56853d46f.arrow\n",
      "Loading cached processed dataset at /mnt/cs/nlu/home/posokhov/merionum___json/merionum--ru_paraphraser-e39dafb2b050eb83/0.0.0/e6070c77f18f01a5ad4551a8b7edfba20b8438b7cad4d94e6ad9378022ce4aab/cache-bd530113c166771c.arrow\n",
      "100%|██████████| 1000/1000 [00:00<00:00, 4302.41ex/s]\n",
      "100%|██████████| 1/1 [00:00<00:00, 2131.25ex/s]\n"
     ]
    },
    {
     "data": {
      "text/plain": [
       "DatasetDict({\n",
       "    train: Dataset({\n",
       "        features: ['label', 'pair'],\n",
       "        num_rows: 8156\n",
       "    })\n",
       "    test: Dataset({\n",
       "        features: ['label', 'pair'],\n",
       "        num_rows: 1924\n",
       "    })\n",
       "    val: Dataset({\n",
       "        features: ['label', 'pair'],\n",
       "        num_rows: 1000\n",
       "    })\n",
       "    ds_hand_test: Dataset({\n",
       "        features: ['pair'],\n",
       "        num_rows: 1\n",
       "    })\n",
       "})"
      ]
     },
     "execution_count": 9,
     "metadata": {},
     "output_type": "execute_result"
    }
   ],
   "source": [
    "# concat text_1 and text_2\n",
    "def map_concat(text_1, text_2, sep_token=\"[SEP_TOKEN]\"):\n",
    "    return {\"pair\": sep_token.join([text_1, text_2])}\n",
    "ds = ds.map(map_concat, input_columns=[\"text_1\", \"text_2\"], remove_columns=[\"text_1\", \"text_2\"])\n",
    "ds"
   ]
  },
  {
   "cell_type": "code",
   "execution_count": 10,
   "metadata": {},
   "outputs": [],
   "source": [
    "ds.save_to_disk(\"/mnt/cs/nlu/home/posokhov/new_merionum\")"
   ]
  }
 ],
 "metadata": {
  "kernelspec": {
   "display_name": "pl_template2",
   "language": "python",
   "name": "python3"
  },
  "language_info": {
   "codemirror_mode": {
    "name": "ipython",
    "version": 3
   },
   "file_extension": ".py",
   "mimetype": "text/x-python",
   "name": "python",
   "nbconvert_exporter": "python",
   "pygments_lexer": "ipython3",
   "version": "3.10.8"
  },
  "orig_nbformat": 4
 },
 "nbformat": 4,
 "nbformat_minor": 2
}
